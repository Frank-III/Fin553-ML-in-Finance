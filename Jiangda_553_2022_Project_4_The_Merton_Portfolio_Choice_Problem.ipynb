{
  "cells": [
    {
      "cell_type": "markdown",
      "metadata": {
        "colab_type": "text",
        "id": "view-in-github"
      },
      "source": [
        "<a href=\"https://colab.research.google.com/github/Frank-III/Fin553-ML-in-Finance/blob/main/Jiangda_553_2022_Project_4_The_Merton_Portfolio_Choice_Problem.ipynb\" target=\"_parent\"><img src=\"https://colab.research.google.com/assets/colab-badge.svg\" alt=\"Open In Colab\"/></a>"
      ]
    },
    {
      "cell_type": "code",
      "execution_count": null,
      "metadata": {
        "colab": {
          "base_uri": "https://localhost:8080/"
        },
        "id": "b5lSRB8Ufuz1",
        "outputId": "8fe8d8cc-682c-4e45-ac49-93986b46af96"
      },
      "outputs": [
        {
          "name": "stdout",
          "output_type": "stream",
          "text": [
            "\u001b[K     |████████████████████████████████| 154 kB 22.9 MB/s \n",
            "\u001b[K     |████████████████████████████████| 352 kB 55.7 MB/s \n",
            "\u001b[K     |████████████████████████████████| 85 kB 1.0 MB/s \n",
            "\u001b[?25h"
          ]
        }
      ],
      "source": [
        "pip install -q optax dm-haiku"
      ]
    },
    {
      "cell_type": "markdown",
      "metadata": {
        "id": "NBCYxZPBaiLy"
      },
      "source": [
        "Due Date: December 7th\n",
        "# Problem statement\n",
        "\n",
        "Consider the stochastic cake-eating problem you solved in the previous assignment. Suppose that instead of investing the wealth entirely in the stock market, you have the option to assign a fraction $\\alpha$ of your wealth in the stock market, and the remaining is invested in a risk-free savings account that pays a 1.04 % gross return. Notice that $\\alpha$ is bounded below by 0, and bounded above by 1.\n",
        "\n",
        "Solve for the optimal consumption ($c$) and asset allocation ($\\alpha$).\n",
        "\n",
        "- Print the average sum of discounted rewards (utilities) using 1 million simulations.\n",
        " \n",
        " - Plot the average consumption-wealth ratio ($c / x)$ for each time period $t=0, 1, ..., 49$\n",
        "\n",
        " - Plot the average asset allocation in the risky asset($\\alpha)$ for each time period $t=0, 1, ..., 49$\n",
        "\n",
        "Hint: Starting from the code of the previous assignment, the modifications you have to implement are minimal. Namely:\n",
        "\n",
        "- The output of the neural network now should be a 2d vector, [link text](https://)corresponding to the consumption-wealth ratio (c / x) and $\\alpha$, respectively\n"
      ]
    },
    {
      "cell_type": "code",
      "execution_count": null,
      "metadata": {
        "colab": {
          "base_uri": "https://localhost:8080/",
          "height": 423
        },
        "id": "QGFGnsbiXFRk",
        "outputId": "4dbd86c3-68cd-4476-92fd-dcaa0b347a93"
      },
      "outputs": [
        {
          "name": "stdout",
          "output_type": "stream",
          "text": [
            "-1276.8472\n",
            "-374.65567\n",
            "-370.778\n",
            "-369.9552\n",
            "-369.729\n",
            "-370.04797\n",
            "-369.63974\n",
            "-369.57214\n"
          ]
        },
        {
          "ename": "KeyboardInterrupt",
          "evalue": "ignored",
          "output_type": "error",
          "traceback": [
            "\u001b[0;31m---------------------------------------------------------------------------\u001b[0m",
            "\u001b[0;31mKeyboardInterrupt\u001b[0m                         Traceback (most recent call last)",
            "\u001b[0;32m<ipython-input-2-272155a3e74c>\u001b[0m in \u001b[0;36m<module>\u001b[0;34m\u001b[0m\n\u001b[1;32m     86\u001b[0m \u001b[0;34m\u001b[0m\u001b[0m\n\u001b[1;32m     87\u001b[0m \u001b[0;32mfor\u001b[0m \u001b[0miteration\u001b[0m \u001b[0;32min\u001b[0m \u001b[0mrange\u001b[0m\u001b[0;34m(\u001b[0m\u001b[0mN\u001b[0m\u001b[0;34m)\u001b[0m\u001b[0;34m:\u001b[0m\u001b[0;34m\u001b[0m\u001b[0;34m\u001b[0m\u001b[0m\n\u001b[0;32m---> 88\u001b[0;31m   \u001b[0mΘ\u001b[0m\u001b[0;34m,\u001b[0m \u001b[0mopt_state\u001b[0m\u001b[0;34m,\u001b[0m \u001b[0mrng\u001b[0m \u001b[0;34m=\u001b[0m \u001b[0mupdate_gradient_descent\u001b[0m\u001b[0;34m(\u001b[0m\u001b[0mΘ\u001b[0m\u001b[0;34m,\u001b[0m \u001b[0mopt_state\u001b[0m\u001b[0;34m,\u001b[0m \u001b[0mrng\u001b[0m\u001b[0;34m)\u001b[0m\u001b[0;34m\u001b[0m\u001b[0;34m\u001b[0m\u001b[0m\n\u001b[0m\u001b[1;32m     89\u001b[0m \u001b[0;34m\u001b[0m\u001b[0m\n\u001b[1;32m     90\u001b[0m   \u001b[0;32mif\u001b[0m \u001b[0miteration\u001b[0m \u001b[0;34m%\u001b[0m \u001b[0;36m1000\u001b[0m \u001b[0;34m==\u001b[0m \u001b[0;36m0\u001b[0m\u001b[0;34m:\u001b[0m\u001b[0;34m\u001b[0m\u001b[0;34m\u001b[0m\u001b[0m\n",
            "\u001b[0;32m<string>\u001b[0m in \u001b[0;36m__new__\u001b[0;34m(_cls, count, mu, nu)\u001b[0m\n",
            "\u001b[0;31mKeyboardInterrupt\u001b[0m: "
          ]
        }
      ],
      "source": [
        "import jax\n",
        "import jax.numpy as jnp\n",
        "import optax\n",
        "import haiku as hk\n",
        "import matplotlib.pyplot as plt\n",
        "\n",
        "\n",
        "γ = 2.\n",
        "β = 0.95\n",
        "Rf = 1.04\n",
        "\n",
        "\n",
        "def U(c):\n",
        "    return c**(1 - γ) / (1 - γ)\n",
        "\n",
        "\n",
        "optimizer = optax.adam\n",
        "lr = 1e-3\n",
        "T = 50\n",
        "batch_size = 256\n",
        "N = 10000   # #trainning\n",
        "\n",
        "\n",
        "def nnet(x):\n",
        "  X = jnp.column_stack([x])\n",
        "  X = hk.Linear(32)(X)\n",
        "  X = jnp.tanh(X)\n",
        "  X = hk.Linear(2)(X)\n",
        "  X = jnp.squeeze(X)\n",
        "  return X\n",
        "\n",
        "\n",
        "init, nnet = hk.without_apply_rng(hk.transform(nnet))\n",
        "rng = jax.random.PRNGKey(0)\n",
        "Θ = init(rng, jnp.ones(2))\n",
        "\n",
        "\n",
        "opt_state = optimizer(lr).init(Θ)\n",
        "\n",
        "\n",
        "def L(Θ, batch_size, rng):\n",
        "  G = 0.\n",
        "  μs = 0.06\n",
        "  σs = 0.2\n",
        "  state = jnp.ones(batch_size)\n",
        "  stock_returns = jnp.exp(μs + σs * jax.random.normal(rng, (T, batch_size)))\n",
        "  inputs = jnp.arange(T), stock_returns\n",
        "\n",
        "  def core(state, inputs):\n",
        "    t, R = inputs\n",
        "    xt = state\n",
        "    theta, α = jnp.hsplit(nnet(Θ, xt), 2)\n",
        "    theta = jax.nn.sigmoid(theta.squeeze() - 4.)\n",
        "    ct = theta * xt\n",
        "    α = jax.nn.sigmoid(α.squeeze() - 4.)\n",
        "    ut = U(ct)\n",
        "    savings = xt - ct\n",
        "\n",
        "    x_tp1 = R * savings * α + Rf * savings * (1 - α)\n",
        "    discounted_utility = β**t * ut\n",
        "    return x_tp1, discounted_utility.mean()\n",
        "\n",
        "  state, discounted_utility = jax.lax.scan(core, state, inputs)\n",
        "  G = discounted_utility.sum()\n",
        "  return -G\n",
        "\n",
        "\n",
        "@jax.jit\n",
        "def evaluation(Θ):\n",
        "  rng = jax.random.PRNGKey(0)\n",
        "  G = L(Θ, 1000000, rng)\n",
        "  return -G\n",
        "\n",
        "\n",
        "@jax.jit\n",
        "def update_gradient_descent(Θ, opt_state, rng):\n",
        "  rng, _ = jax.random.split(rng)\n",
        "  grad = jax.grad(L)(Θ, batch_size, rng)\n",
        "  updates, opt_state = optimizer(lr).update(grad, opt_state)\n",
        "  Θ = optax.apply_updates(Θ, updates)\n",
        "  return Θ, opt_state, rng\n",
        "\n",
        "\n",
        "\n",
        "rng = jax.random.PRNGKey(0)\n",
        "\n",
        "for iteration in range(N):\n",
        "  Θ, opt_state, rng = update_gradient_descent(Θ, opt_state, rng)\n",
        "\n",
        "  if iteration % 1000 == 0:\n",
        "    print(evaluation(Θ))\n",
        "    "
      ]
    },
    {
      "cell_type": "code",
      "execution_count": null,
      "metadata": {
        "id": "15C16rehk4qV"
      },
      "outputs": [],
      "source": [
        "def draw(Θ, batch_size):\n",
        "  import matplotlib.pyplot as plt\n",
        "  rng = jax.random.PRNGKey(0)\n",
        "  G = 0.\n",
        "  μs = 0.06\n",
        "  σs = 0.2\n",
        "  state = jnp.ones(batch_size)\n",
        "  stock_returns = jnp.exp(μs + σs * jax.random.normal(rng, (T, batch_size)))\n",
        "  inputs = jnp.arange(T), stock_returns\n",
        "\n",
        "  def core(state, inputs):\n",
        "    t, R = inputs\n",
        "    xt = state\n",
        "    theta, α = jnp.hsplit(nnet(Θ, xt), 2)\n",
        "    theta = jax.nn.sigmoid(theta.squeeze() - 4.)\n",
        "    ct = theta * xt\n",
        "    α = jax.nn.sigmoid(α.squeeze() - 4.)\n",
        "    ut = U(ct)\n",
        "    savings = xt - ct\n",
        "\n",
        "    x_tp1 = R * savings * α + Rf * savings * (1 - α)\n",
        "    discounted_utility = β**t * ut\n",
        "    return x_tp1, (discounted_utility.mean(), theta.mean(), α.mean())\n",
        "\n",
        "  state, (discounted_utility, cw_ratio, α)  = jax.lax.scan(core, state, inputs)\n",
        "  #G = discounted_utility.sum()\n",
        "  fig, (ax1, ax2) = plt.subplots(1,2, figsize=(18,8))\n",
        "  ax1.plot(cw_ratio)\n",
        "  ax1.set_title(\"average consumption-wealth ratio (c/w)\")\n",
        "  ax1.set_xlabel(\"period\")\n",
        "  ax1.set_ylabel(\"ratio\")\n",
        "  ax2.plot(α)\n",
        "  ax2.set_title(\"average asset allocation in the risky asset(α)\")\n",
        "  ax2.set_xlabel(\"period\")\n",
        "  ax2.set_ylabel(\"allocation\")\n",
        "  return fig"
      ]
    },
    {
      "cell_type": "code",
      "execution_count": null,
      "metadata": {
        "colab": {
          "base_uri": "https://localhost:8080/",
          "height": 513
        },
        "id": "ZPPCX2210880",
        "outputId": "cb23ff44-8902-4f80-f6f1-a6d8d941e41e"
      },
      "outputs": [
        {
          "data": {
            "image/png": "[encoded data removed]",
            "text/plain": [
              "<Figure size 1296x576 with 2 Axes>"
            ]
          },
          "metadata": {
            "needs_background": "light"
          },
          "output_type": "display_data"
        }
      ],
      "source": [
        "draw(Θ, 100000);"
      ]
    },
    {
      "cell_type": "code",
      "execution_count": null,
      "metadata": {
        "id": "v9DCZD2y1Zrh"
      },
      "outputs": [],
      "source": []
    }
  ],
  "metadata": {
    "accelerator": "GPU",
    "colab": {
      "include_colab_link": true,
      "provenance": []
    },
    "gpuClass": "standard",
    "kernelspec": {
      "display_name": "Python 3",
      "name": "python3"
    },
    "language_info": {
      "name": "python"
    }
  },
  "nbformat": 4,
  "nbformat_minor": 0
}
