{
  "nbformat": 4,
  "nbformat_minor": 0,
  "metadata": {
    "colab": {
      "provenance": [],
      "include_colab_link": true
    },
    "kernelspec": {
      "name": "python3",
      "display_name": "Python 3"
    },
    "language_info": {
      "name": "python"
    },
    "accelerator": "GPU",
    "gpuClass": "standard"
  },
  "cells": [
    {
      "cell_type": "markdown",
      "metadata": {
        "id": "view-in-github",
        "colab_type": "text"
      },
      "source": [
        "<a href=\"https://colab.research.google.com/github/Frank-III/Fin553-ML-in-Finance/blob/main/Copy_of_553_2022_Project_3_Stochastic_Cake_Eating.ipynb\" target=\"_parent\"><img src=\"https://colab.research.google.com/assets/colab-badge.svg\" alt=\"Open In Colab\"/></a>"
      ]
    },
    {
      "cell_type": "code",
      "source": [
        "pip install -q optax dm-haiku"
      ],
      "metadata": {
        "id": "b5lSRB8Ufuz1",
        "colab": {
          "base_uri": "https://localhost:8080/"
        },
        "outputId": "97e9ea21-ca88-4651-9faf-499d2e9c3618"
      },
      "execution_count": null,
      "outputs": [
        {
          "output_type": "stream",
          "name": "stdout",
          "text": [
            "\u001b[K     |████████████████████████████████| 154 kB 29.3 MB/s \n",
            "\u001b[K     |████████████████████████████████| 352 kB 52.5 MB/s \n",
            "\u001b[K     |████████████████████████████████| 85 kB 4.3 MB/s \n",
            "\u001b[?25h"
          ]
        }
      ]
    },
    {
      "cell_type": "markdown",
      "source": [
        "Due Date: November 30\n",
        "# Problem statement\n",
        "\n",
        "The code below is similar to the Cake Eating problem code we implemented in class. The differences are:\n",
        "- Each time interval corresponds to one year (instead of one month)\n",
        "- The consumption policy function is written as a simple sigle-layer neural network, with tanh activation (instead of the usual relu)\n",
        "\n",
        "We will interpret the size of the cake as being total wealth, and cake consumption as general consumption. The fraction of wealth not consumed today are the *savings* (line 51). The dynamics of wealth are described by line 54. That line is equivalent to assuming that your savings are invested in a risk-free savings account that pays 0 interest, and therefore has a gross return of 1, denoted by *R* (line 53).\n",
        "\n",
        "\n"
      ],
      "metadata": {
        "id": "NBCYxZPBaiLy"
      }
    },
    {
      "cell_type": "code",
      "source": [
        "import jax\n",
        "import jax.numpy as jnp\n",
        "import optax\n",
        "import haiku as hk\n",
        "\n",
        "\n",
        "γ = 2.\n",
        "β = 0.95\n",
        "\n",
        "optimizer = optax.adam\n",
        "lr = 1e-3\n",
        "T = 50"
      ],
      "metadata": {
        "id": "TdD_gvmvgvVS"
      },
      "execution_count": null,
      "outputs": []
    },
    {
      "cell_type": "code",
      "source": [
        "def U(c):\n",
        "    return c**(1 - γ) / (1 - γ)\n",
        "\n",
        "optimizer = optax.adam\n",
        "lr = 1e-3\n",
        "T = 50\n",
        "\n",
        "\n",
        "def nnet(x):\n",
        "  X = jnp.column_stack([x])\n",
        "  X = hk.Linear(32)(X)\n",
        "  X = jnp.tanh(X)\n",
        "  X = hk.Linear(1)(X)\n",
        "  X = jnp.squeeze(X)\n",
        "  return X\n",
        "\n",
        "\n",
        "init, nnet = hk.without_apply_rng(hk.transform(nnet))\n",
        "rng = jax.random.PRNGKey(0)\n",
        "Θ = init(rng, jnp.array(1.))\n",
        "\n",
        "\n",
        "opt_state = optimizer(lr).init(Θ)\n",
        "\n",
        "\n",
        "def L(Θ):\n",
        "\n",
        "  x = 1.\n",
        "  G = 0.\n",
        "\n",
        "  state = x\n",
        "  inputs = jnp.arange(T)\n",
        "\n",
        "  def core(state, inputs):\n",
        "    t = inputs\n",
        "    xt = state\n",
        "\n",
        "    ct = jax.nn.sigmoid(nnet(Θ, xt) - 4.) * xt\n",
        "    ut = U(ct)\n",
        "    savings = xt - ct\n",
        "\n",
        "    R = 1.\n",
        "    x_tp1 = R * savings\n",
        "\n",
        "    discounted_utility = β**t * ut\n",
        "    return x_tp1, discounted_utility\n",
        "\n",
        "  x, discounted_utility = jax.lax.scan(core, state, inputs)\n",
        "  G = discounted_utility.sum()\n",
        "  return -G\n",
        "\n",
        "\n",
        "@jax.jit\n",
        "def evaluation(Θ):\n",
        "  return -L(Θ)\n",
        "\n",
        "\n",
        "@jax.jit\n",
        "def update_gradient_descent(Θ, opt_state):\n",
        "  grad = jax.grad(L)(Θ)\n",
        "  updates, opt_state = optimizer(lr).update(grad, opt_state)\n",
        "  Θ = optax.apply_updates(Θ, updates)\n",
        "  return Θ, opt_state\n",
        "\n",
        "\n"
      ],
      "metadata": {
        "id": "oQ8TViggfsPL"
      },
      "execution_count": null,
      "outputs": []
    },
    {
      "cell_type": "code",
      "source": [
        "for iteration in range(1000000):\n",
        "  Θ, opt_state = update_gradient_descent(Θ, opt_state)\n",
        "\n",
        "  if iteration % 1000 == 0:\n",
        "    print(evaluation(Θ))"
      ],
      "metadata": {
        "id": "bIXy0vKKPP18",
        "colab": {
          "base_uri": "https://localhost:8080/",
          "height": 396
        },
        "outputId": "40c6c2fd-5f93-4eaa-8d0c-7eed06904228"
      },
      "execution_count": null,
      "outputs": [
        {
          "output_type": "stream",
          "name": "stdout",
          "text": [
            "-1301.5056\n",
            "-869.2983\n",
            "-846.71466\n",
            "-839.00665\n",
            "-833.3895\n",
            "-830.0196\n"
          ]
        },
        {
          "output_type": "error",
          "ename": "KeyboardInterrupt",
          "evalue": "ignored",
          "traceback": [
            "\u001b[0;31m---------------------------------------------------------------------------\u001b[0m",
            "\u001b[0;31mKeyboardInterrupt\u001b[0m                         Traceback (most recent call last)",
            "\u001b[0;32m<ipython-input-9-cd22d5e988d8>\u001b[0m in \u001b[0;36m<module>\u001b[0;34m\u001b[0m\n\u001b[1;32m      1\u001b[0m \u001b[0;32mfor\u001b[0m \u001b[0miteration\u001b[0m \u001b[0;32min\u001b[0m \u001b[0mrange\u001b[0m\u001b[0;34m(\u001b[0m\u001b[0;36m1000000\u001b[0m\u001b[0;34m)\u001b[0m\u001b[0;34m:\u001b[0m\u001b[0;34m\u001b[0m\u001b[0;34m\u001b[0m\u001b[0m\n\u001b[0;32m----> 2\u001b[0;31m   \u001b[0mΘ\u001b[0m\u001b[0;34m,\u001b[0m \u001b[0mopt_state\u001b[0m \u001b[0;34m=\u001b[0m \u001b[0mupdate_gradient_descent\u001b[0m\u001b[0;34m(\u001b[0m\u001b[0mΘ\u001b[0m\u001b[0;34m,\u001b[0m \u001b[0mopt_state\u001b[0m\u001b[0;34m)\u001b[0m\u001b[0;34m\u001b[0m\u001b[0;34m\u001b[0m\u001b[0m\n\u001b[0m\u001b[1;32m      3\u001b[0m \u001b[0;34m\u001b[0m\u001b[0m\n\u001b[1;32m      4\u001b[0m   \u001b[0;32mif\u001b[0m \u001b[0miteration\u001b[0m \u001b[0;34m%\u001b[0m \u001b[0;36m1000\u001b[0m \u001b[0;34m==\u001b[0m \u001b[0;36m0\u001b[0m\u001b[0;34m:\u001b[0m\u001b[0;34m\u001b[0m\u001b[0;34m\u001b[0m\u001b[0m\n\u001b[1;32m      5\u001b[0m     \u001b[0mprint\u001b[0m\u001b[0;34m(\u001b[0m\u001b[0mevaluation\u001b[0m\u001b[0;34m(\u001b[0m\u001b[0mΘ\u001b[0m\u001b[0;34m)\u001b[0m\u001b[0;34m)\u001b[0m\u001b[0;34m\u001b[0m\u001b[0;34m\u001b[0m\u001b[0m\n",
            "\u001b[0;32m<string>\u001b[0m in \u001b[0;36m__new__\u001b[0;34m(_cls, count, mu, nu)\u001b[0m\n",
            "\u001b[0;31mKeyboardInterrupt\u001b[0m: "
          ]
        }
      ]
    },
    {
      "cell_type": "markdown",
      "source": [
        "Suppose now that your savings are fully invested in the stock market, so the evolution of wealth is now stochastic. The stock market gross return is modeled by the function below:"
      ],
      "metadata": {
        "id": "3kiR50YVel4Z"
      }
    },
    {
      "cell_type": "code",
      "source": [
        "@jax.jit \n",
        "def stock_return(rng):\n",
        "  μs = 0.06\n",
        "  σs = 0.2  \n",
        "  ε = jax.random.normal(rng, ())\n",
        "  log_return = μs + σs * ε\n",
        "  return jnp.exp(log_return)"
      ],
      "metadata": {
        "id": "q29PSPOSagHv"
      },
      "execution_count": null,
      "outputs": []
    },
    {
      "cell_type": "code",
      "source": [
        "#rng = jax.random.PRNGKey(0)\n",
        "#jnp.mean([stock_return(key) for key in jax.random.split(rng, 1000000)])"
      ],
      "metadata": {
        "id": "F7b3qyze-4Px"
      },
      "execution_count": null,
      "outputs": []
    },
    {
      "cell_type": "markdown",
      "source": [
        "Write a code to solve for the optimal consumption policy in this environment. \n",
        "What is the expceted sum of discounted rewards (value function) resulting from that policy? Use at least 1 million sample paths to estimate that number."
      ],
      "metadata": {
        "id": "-huRiG_Te82H"
      }
    },
    {
      "cell_type": "code",
      "source": [
        "jax.random.normal(rng,(T,1000000))"
      ],
      "metadata": {
        "colab": {
          "base_uri": "https://localhost:8080/"
        },
        "id": "fWlZ1JehRILJ",
        "outputId": "ae8aec35-a723-4416-c344-b48ff7ef1422"
      },
      "execution_count": null,
      "outputs": [
        {
          "output_type": "execute_result",
          "data": {
            "text/plain": [
              "(50, 1000000)"
            ]
          },
          "metadata": {},
          "execution_count": 10
        }
      ]
    },
    {
      "cell_type": "code",
      "source": [
        "rng = jax.random.PRNGKey(0)\n",
        "μs = 0.06\n",
        "σs = 0.2  \n",
        "#jax.random.normal(rng,(T,1000000)).mean(axis=1)\n",
        "#jnp.exp(μs + σs * jax.random.normal(rng,(T,1000000))).mean(axis=1)\n",
        "for _ in range(5):\n",
        "  rng, _ = jax.random.split(rng)\n",
        "  print(jnp.exp(μs + σs * jax.random.normal(rng,(T,1000000)).mean(axis=1))[:5])"
      ],
      "metadata": {
        "colab": {
          "base_uri": "https://localhost:8080/"
        },
        "id": "6ZptPUefOMTT",
        "outputId": "940da39b-a7c9-4ca1-ec15-c003bb5cf884"
      },
      "execution_count": null,
      "outputs": [
        {
          "output_type": "stream",
          "name": "stdout",
          "text": [
            "[1.0618982 1.0619469 1.0619837 1.062034  1.0615014]\n",
            "[1.0618906 1.06188   1.0615606 1.0618215 1.062045 ]\n",
            "[1.0617937 1.062007  1.0619162 1.0616356 1.0621024]\n",
            "[1.0620306 1.0619072 1.0615717 1.0618093 1.0617504]\n",
            "[1.06171   1.0615904 1.0617591 1.0620694 1.061711 ]\n"
          ]
        }
      ]
    },
    {
      "cell_type": "code",
      "source": [
        "rng = jax.random.PRNGKey(0)\n",
        "print(\"Year 1 to 5\")\n",
        "for _ in range(5):\n",
        "  rng, _ = jax.random.split(rng)\n",
        "  print(jnp.exp(μs + σs * jax.random.normal(rng,(T,1000000))).mean(axis=1)[:5])"
      ],
      "metadata": {
        "colab": {
          "base_uri": "https://localhost:8080/"
        },
        "id": "xWmqhckae0ch",
        "outputId": "5efae1e9-0dbe-4a3a-9c2e-9b754f622ea2"
      },
      "execution_count": null,
      "outputs": [
        {
          "output_type": "stream",
          "name": "stdout",
          "text": [
            "Year 1 to 5\n",
            "[1.0833415 1.0834395 1.0834734 1.0834988 1.0829507]\n",
            "[1.0833129 1.0833772 1.0830647 1.083262  1.0835037]\n",
            "[1.0832926 1.0834638 1.0833498 1.0830674 1.0835745]\n",
            "[1.0834701 1.0833898 1.0830349 1.0832455 1.0832254]\n",
            "[1.083132  1.0830543 1.0832282 1.0835247 1.0832232]\n"
          ]
        }
      ]
    },
    {
      "cell_type": "code",
      "source": [
        "rng = jax.random.PRNGKey(0)\n",
        "for _ in range(5):\n",
        "  rng, _ = jax.random.split(rng)\n",
        "  print(jnp.exp(μs + σs * jax.random.normal(rng,(T,))[:5]))"
      ],
      "metadata": {
        "colab": {
          "base_uri": "https://localhost:8080/"
        },
        "id": "qqJgCG2cep-N",
        "outputId": "3ac5da41-3e64-4678-d2dd-99a871f313b5"
      },
      "execution_count": null,
      "outputs": [
        {
          "output_type": "stream",
          "name": "stdout",
          "text": [
            "[1.3033675 1.1019223 1.0690558 0.892919  1.1381866]\n",
            "[1.3243431 1.1481453 1.4099396 1.8082697 1.3144269]\n",
            "[1.0459208 1.0225538 1.1918788 1.1268678 1.0007964]\n",
            "[0.9401438 1.0572538 1.2984145 0.8893047 0.7812677]\n",
            "[0.7606866 1.146791  1.2302936 1.0184064 1.2396514]\n"
          ]
        }
      ]
    },
    {
      "cell_type": "code",
      "source": [
        "def jax_mean_return(rng):\n",
        "  def stock_return(x,rng):\n",
        "    μs = 0.06\n",
        "    σs = 0.2  \n",
        "    ε = jax.random.normal(rng, ())\n",
        "    log_return = μs + σs * ε\n",
        "    return jnp.exp(log_return), jnp.exp(log_return)\n",
        "  input = rng\n",
        "  return jax.lax.scan(stock_return, init=0, xs= rng)\n",
        "\n",
        "rng = jax.random.PRNGKey(0)\n",
        "jax_mean_return(jax.random.split(rng, 1000000))[1].mean()"
      ],
      "metadata": {
        "colab": {
          "base_uri": "https://localhost:8080/"
        },
        "id": "T3h7CoaMBBRQ",
        "outputId": "eb43a582-9114-4c9d-8416-7c039dbef8ac"
      },
      "execution_count": null,
      "outputs": [
        {
          "output_type": "execute_result",
          "data": {
            "text/plain": [
              "DeviceArray(1.0834519, dtype=float32)"
            ]
          },
          "metadata": {},
          "execution_count": 8
        }
      ]
    },
    {
      "cell_type": "code",
      "source": [
        "import jax\n",
        "import jax.numpy as jnp\n",
        "import optax\n",
        "import haiku as hk\n",
        "\n",
        "\n",
        "γ = 2.\n",
        "β = 0.95\n",
        "n_samples = 1000000\n",
        "batch_size = 10000\n",
        "μs = 0.06\n",
        "σs = 0.2  \n",
        "\n",
        "def U(c):\n",
        "    return c**(1 - γ) / (1 - γ)\n",
        "\n",
        "\n",
        "optimizer = optax.adam\n",
        "lr = 1e-3\n",
        "T = 50\n",
        "\n",
        "\n",
        "def nnet(x):\n",
        "  X = jnp.column_stack([x])\n",
        "  X = hk.Linear(32)(X)\n",
        "  X = jnp.tanh(X)\n",
        "  X = hk.Linear(1)(X)\n",
        "  X = jnp.squeeze(X)\n",
        "  return X\n",
        "\n",
        "\n",
        "\n",
        "init, nnet = hk.without_apply_rng(hk.transform(nnet))\n",
        "rng = jax.random.PRNGKey(0)\n",
        "Θ = init(rng, jnp.array(1.))\n",
        "\n",
        "\n",
        "opt_state = optimizer(lr).init(Θ)\n",
        "\n",
        "\n",
        "def L(Θ, batch_size, rng):\n",
        "\n",
        "  x = 1.\n",
        "  G = 0.\n",
        "\n",
        "  state = jnp.ones((batch_size,))\n",
        "  stock_returns = jnp.exp(μs + σs * jax.random.normal(rng, (T, batch_size))) # shape (50, 200)\n",
        "  inputs = jnp.arange(T), stock_returns \n",
        "  #print(inputs[0].shape, inputs[1].shape)\n",
        "  \n",
        "  def core(state, inputs):\n",
        "    t, R = inputs # t-> scalar, R -> (200,)\n",
        "    xt = state # array (200,)\n",
        "\n",
        "    ct = jax.nn.sigmoid(nnet(Θ, xt) - 4.) * xt \n",
        "    ut = U(ct) # array (200, )\n",
        "    savings = xt - ct \n",
        "\n",
        "    x_tp1 = R * savings\n",
        "\n",
        "    discounted_utility = β**t * ut\n",
        "    return x_tp1, discounted_utility\n",
        "  \n",
        "  x, discounted_utility = jax.lax.scan(core , state, inputs)\n",
        "  G = discounted_utility.mean(axis=1).sum()\n",
        "  return -G\n",
        "\n",
        "\n",
        "@jax.jit\n",
        "def evaluation(Θ):\n",
        "  rng = jax.random.PRNGKey(0)\n",
        "  return -L(Θ, n_samples, rng)\n",
        "\n",
        "\n",
        "@jax.jit\n",
        "def update_gradient_descent(rng, Θ, opt_state):\n",
        "  rng, _ = jax.random.split(rng)\n",
        "  grad = jax.grad(L)(Θ, batch_size,rng)\n",
        "  updates, opt_state = optimizer(lr).update(grad, opt_state)\n",
        "  Θ = optax.apply_updates(Θ, updates)\n",
        "  return rng, Θ, opt_state\n"
      ],
      "metadata": {
        "id": "rOowXRqH7QZ-"
      },
      "execution_count": null,
      "outputs": []
    },
    {
      "cell_type": "code",
      "source": [
        "L(Θ, 200, rng)"
      ],
      "metadata": {
        "colab": {
          "base_uri": "https://localhost:8080/"
        },
        "id": "dsbKpDHuSk-2",
        "outputId": "d49ac4d7-bbc1-4b0d-8bbe-764f3716fa8e"
      },
      "execution_count": null,
      "outputs": [
        {
          "output_type": "execute_result",
          "data": {
            "text/plain": [
              "DeviceArray(694.96045, dtype=float32)"
            ]
          },
          "metadata": {},
          "execution_count": 48
        }
      ]
    },
    {
      "cell_type": "code",
      "source": [
        "rng = jax.random.PRNGKey(0)\n",
        "for iteration in range(100000):\n",
        "  rng, Θ, opt_state = update_gradient_descent(rng, Θ, opt_state)\n",
        "\n",
        "  if iteration % 1000 == 0:\n",
        "    print(evaluation(Θ))"
      ],
      "metadata": {
        "colab": {
          "base_uri": "https://localhost:8080/"
        },
        "id": "J1OJgwBuUPRv",
        "outputId": "8f4bdfc7-a235-4dc5-b7dd-76a7c6133e99"
      },
      "execution_count": null,
      "outputs": [
        {
          "output_type": "stream",
          "name": "stdout",
          "text": [
            "-677.7496\n",
            "-434.88882\n",
            "-434.11334\n",
            "-433.84802\n",
            "-433.70032\n",
            "-433.6125\n",
            "-433.5578\n",
            "-433.43768\n",
            "-433.3656\n",
            "-433.29797\n",
            "-433.2447\n",
            "-433.19153\n",
            "-433.15735\n",
            "-433.1344\n",
            "-433.13126\n",
            "-433.13556\n",
            "-433.0511\n",
            "-433.0437\n",
            "-433.0252\n",
            "-433.02295\n",
            "-433.02264\n",
            "-433.0065\n",
            "-432.99207\n",
            "-432.98975\n",
            "-432.98056\n",
            "-433.0334\n",
            "-432.97656\n",
            "-433.0379\n",
            "-432.96753\n",
            "-432.99396\n",
            "-432.97968\n",
            "-432.96393\n",
            "-432.98825\n",
            "-432.9608\n",
            "-432.9598\n",
            "-433.00934\n",
            "-432.98218\n",
            "-432.95618\n",
            "-432.94287\n",
            "-432.96173\n",
            "-432.9615\n",
            "-432.93796\n",
            "-432.93393\n",
            "-432.9399\n",
            "-432.94553\n",
            "-432.93622\n",
            "-432.92776\n",
            "-432.94223\n",
            "-432.93408\n",
            "-433.02484\n",
            "-432.92572\n",
            "-432.9438\n",
            "-432.93103\n",
            "-432.9436\n",
            "-432.9215\n",
            "-432.9455\n",
            "-432.94867\n",
            "-432.91907\n",
            "-432.94354\n",
            "-432.91785\n",
            "-432.96182\n",
            "-432.92892\n",
            "-432.91602\n",
            "-432.98203\n",
            "-432.91827\n",
            "-432.91284\n",
            "-432.90497\n",
            "-432.90845\n",
            "-432.91418\n",
            "-432.92038\n",
            "-432.90778\n",
            "-432.92188\n",
            "-432.95868\n",
            "-432.92438\n",
            "-432.929\n",
            "-432.9549\n",
            "-432.8949\n",
            "-432.91852\n",
            "-432.90054\n",
            "-432.89713\n",
            "-432.90515\n",
            "-432.89398\n",
            "-432.89236\n",
            "-432.89856\n",
            "-432.891\n",
            "-432.89386\n",
            "-432.93103\n",
            "-432.8956\n",
            "-432.89545\n",
            "-432.88116\n",
            "-432.88235\n",
            "-432.88498\n",
            "-432.88098\n",
            "-432.92108\n",
            "-432.89362\n",
            "-432.8838\n",
            "-432.88306\n",
            "-432.8869\n",
            "-432.88348\n",
            "-432.87878\n"
          ]
        }
      ]
    },
    {
      "cell_type": "code",
      "source": [],
      "metadata": {
        "id": "_arMK_j-UnVD"
      },
      "execution_count": null,
      "outputs": []
    }
  ]
}