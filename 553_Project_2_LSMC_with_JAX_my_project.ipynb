{
  "nbformat": 4,
  "nbformat_minor": 0,
  "metadata": {
    "colab": {
      "provenance": [],
      "include_colab_link": true
    },
    "kernelspec": {
      "name": "python3",
      "display_name": "Python 3"
    },
    "accelerator": "GPU",
    "gpuClass": "standard"
  },
  "cells": [
    {
      "cell_type": "markdown",
      "metadata": {
        "id": "view-in-github",
        "colab_type": "text"
      },
      "source": [
        "<a href=\"https://colab.research.google.com/github/Frank-III/Fin553-ML-in-Finance/blob/main/553_Project_2_LSMC_with_JAX_my_project.ipynb\" target=\"_parent\"><img src=\"https://colab.research.google.com/assets/colab-badge.svg\" alt=\"Open In Colab\"/></a>"
      ]
    },
    {
      "cell_type": "code",
      "metadata": {
        "id": "ypSrQvxzipH4"
      },
      "source": [],
      "execution_count": null,
      "outputs": []
    },
    {
      "cell_type": "markdown",
      "source": [
        "Due date: October 21 2022 "
      ],
      "metadata": {
        "id": "Umss_PvMjmPG"
      }
    },
    {
      "cell_type": "markdown",
      "source": [
        "# Description\n",
        "  In this problem we will use apply the LSMC method to price American put options. Specifically, we will replicate the result in the first row, 6th column of Table 1 in [Longstaff and Schwartz 2001](https://www.anderson.ucla.edu/documents/areas/fac/finance/least_squares.pdf)\n",
        "\n",
        "  \n",
        "\n",
        "*  Read the introduction of the [paper](https://www.anderson.ucla.edu/documents/areas/fac/finance/least_squares.pdf).\n",
        "*   We will price an american put option as described in page 126 of the aforementioned article. Read paragraphs 1 and 2 of page 126\n",
        "* As we saw in class, one of the ways we can use linear regression to fit nonlinear functions is to use polynomial features. A common choice in many applications is to use the so called ``Chebyshev polynomials''. Chebyshev polynomials are defined recursively by:\n",
        "\n",
        "\\begin{equation}\n",
        "T_0(x) = 1\\\\\n",
        "T_1(x) = x\\\\\n",
        "T_{n + 1}(x)  =  2 x T_n(x) - T_{n - 1}(x)\\\\\n",
        "\\end{equation}\n"
      ],
      "metadata": {
        "id": "UNMPZrw6ucMH"
      }
    },
    {
      "cell_type": "markdown",
      "source": [
        "# Part 1\n",
        "The code below simulates the evolution of a stock price that follows a geometric brownian motion. Write a JAX version of that code. You are not allowed to use functions from other libraries. For this part, the \"simulate\"\n",
        "function does not need to be jit compiled. As we will see, jit compiling a funciton with for loops may introduce some complications\n",
        " "
      ],
      "metadata": {
        "id": "qszv8niMdzJK"
      }
    },
    {
      "cell_type": "code",
      "source": [
        "import numpy as np\n",
        "import jax\n",
        "import jax.numpy as jnp\n",
        "\n",
        "# Data\n",
        "σ = 0.04\n",
        "r = 0.01\n",
        "K = 35\n",
        "\n",
        "# Design choice\n",
        "dt = 0.01\n",
        "m = 100\n",
        "\n",
        "\n",
        "def simulate():\n",
        "  #np.random.seed(0)\n",
        "  key = jax.random.PRNGKey(1)\n",
        "\n",
        "  @jax.jit\n",
        "  def step(S):\n",
        "    dZ = jax.random.normal(key, S.shape) * jnp.sqrt(dt)\n",
        "    dS = r * S  * dt + σ  * S  * dZ\n",
        "    S = S + dS\n",
        "    return S\n",
        "\n",
        "  S0 = jnp.ones(20000)\n",
        "  S = S0\n",
        "  S_list = []\n",
        "\n",
        "  for t in range(m):\n",
        "    S = step(S)\n",
        "    S_list.append(S)\n",
        "\n",
        "  S_array = jnp.stack(S_list)\n",
        "  return S_array\n",
        "\n",
        "simulate()"
      ],
      "metadata": {
        "id": "Fmqvp6-SnYbH",
        "colab": {
          "base_uri": "https://localhost:8080/"
        },
        "outputId": "52ece4f3-1d03-4608-e68c-ddc55433b7c4"
      },
      "execution_count": null,
      "outputs": [
        {
          "output_type": "execute_result",
          "data": {
            "text/plain": [
              "DeviceArray([[0.99656045, 0.997612  , 0.9988988 , ..., 0.995853  ,\n",
              "              0.9948579 , 0.9989114 ],\n",
              "             [0.9931327 , 0.9952297 , 0.99779886, ..., 0.9917232 ,\n",
              "              0.9897423 , 0.9978239 ],\n",
              "             [0.98971677, 0.9928531 , 0.9967001 , ..., 0.9876105 ,\n",
              "              0.98465294, 0.9967376 ],\n",
              "             ...,\n",
              "             [0.7134402 , 0.7911217 , 0.89764947, ..., 0.66547644,\n",
              "              0.6033702 , 0.89875424],\n",
              "             [0.71098626, 0.7892325 , 0.896661  , ..., 0.6627167 ,\n",
              "              0.6002676 , 0.8977758 ],\n",
              "             [0.7085408 , 0.7873478 , 0.8956736 , ..., 0.6599684 ,\n",
              "              0.59718096, 0.8967985 ]], dtype=float32)"
            ]
          },
          "metadata": {},
          "execution_count": 7
        }
      ]
    },
    {
      "cell_type": "markdown",
      "source": [
        "# Part 2\n",
        "Write a jit compiled version of the simulate function. You may want to check out the function jax.lax.scan.\n"
      ],
      "metadata": {
        "id": "-sYIUZ1QfF-i"
      }
    },
    {
      "cell_type": "code",
      "source": [
        "from pickle import NONE\n",
        "@jax.jit\n",
        "def simulate_jax():\n",
        "  key = jax.random.PRNGKey(1)\n",
        "  def step(init, S):\n",
        "    key, S = init\n",
        "    key, subkey = jax.random.split(key)\n",
        "    dZ = jax.random.normal(subkey, S.shape) * jnp.sqrt(dt)\n",
        "    dS = r * S  * dt + σ  * S  * dZ\n",
        "    S = S + dS\n",
        "    return (key,S), S\n",
        "\n",
        "  S0 = jnp.ones(20000)\n",
        "  S = S0\n",
        "  m = 100\n",
        "\n",
        "  return jax.lax.scan(step, (key,S),xs = None, length = m)\n",
        "\n",
        "simulate_jax()"
      ],
      "metadata": {
        "id": "3NzP-CZjxrzx",
        "colab": {
          "base_uri": "https://localhost:8080/"
        },
        "outputId": "4195ec59-fdb1-4142-8010-73134920d628"
      },
      "execution_count": null,
      "outputs": [
        {
          "output_type": "execute_result",
          "data": {
            "text/plain": [
              "((DeviceArray([3723834036,    5122834], dtype=uint32),\n",
              "  DeviceArray([1.0296268 , 1.0981548 , 1.0153092 , ..., 1.0037547 ,\n",
              "               1.0099921 , 0.98250884], dtype=float32)),\n",
              " DeviceArray([[1.0017602 , 0.9997457 , 1.0046163 , ..., 0.9960504 ,\n",
              "               0.9964467 , 1.0037811 ],\n",
              "              [0.99657446, 0.99958307, 1.0009022 , ..., 0.9956731 ,\n",
              "               0.99473   , 1.0082498 ],\n",
              "              [1.0010644 , 1.0030092 , 1.0055163 , ..., 0.9962548 ,\n",
              "               0.99425787, 1.0071009 ],\n",
              "              ...,\n",
              "              [1.0310631 , 1.0890951 , 1.0143472 , ..., 0.9992722 ,\n",
              "               1.0093237 , 0.9828975 ],\n",
              "              [1.031782  , 1.0884858 , 1.0134048 , ..., 1.0009794 ,\n",
              "               1.009332  , 0.98655933],\n",
              "              [1.0296268 , 1.0981548 , 1.0153092 , ..., 1.0037547 ,\n",
              "               1.0099921 , 0.98250884]], dtype=float32))"
            ]
          },
          "metadata": {},
          "execution_count": 2
        }
      ]
    },
    {
      "cell_type": "markdown",
      "source": [
        "# Part 3\n",
        "The code below computes the price of an American Put option using Least Squares Monte Carlo (LSMC). Write a JAX version of that code. You are not allowed to use functions from other libraries. Your \"compute_price\" function must be jit compiled."
      ],
      "metadata": {
        "id": "YdCFrHUafwBh"
      }
    },
    {
      "cell_type": "code",
      "source": [
        "#Jax version\n",
        "import numpy as np\n",
        "\n",
        "Spot = 36   # stock price\n",
        "σ = 0.2     # stock volatility\n",
        "K = 40      # strike price\n",
        "r = 0.06    # risk free rate\n",
        "n = 100000  # Number of simualted paths\n",
        "m = 50      # number of exercise dates\n",
        "T = 1       # maturity\n",
        "order = 12   # Polynmial order\n",
        "Δt = T / m  # interval between two exercise dates\n",
        "\n",
        "\n",
        "# Construct polynomial features of order up to k using the\n",
        "# recursive formulation\n",
        "\n",
        "def chebyshev_basis(x_me, k):\n",
        "  def func(carry, x):\n",
        "    last_1, last_2 = carry\n",
        "    new = 2 * x_me * last_1 - last_2\n",
        "    return (new, last_1), new\n",
        "  return jax.lax.scan(func, (x_me, jnp.ones(len(x_me))) , xs=None, length=k-2)\n",
        "\n",
        "# scales x to be in the interval(-1, 1)\n",
        "\n",
        "def scale(x):\n",
        "    xmin = x.min()\n",
        "    xmax = x.max()\n",
        "    a = 2 / (xmax - xmin)\n",
        "    b = 1 - a * xmax\n",
        "    return a * x + b\n",
        "\n",
        "\n",
        "# simulates one step of the stock price evolution\n",
        "\n",
        "def step(init, S):\n",
        "  key, S = init\n",
        "  key, subkey = jax.random.split(key)\n",
        "  dB = jnp.sqrt(Δt) * jax.random.normal(subkey, S.shape)\n",
        "  S += r * S * Δt + σ * S * dB\n",
        "  return (key, S), S\n",
        "\n",
        "\n",
        "def payoff_put(S):\n",
        "    return jnp.maximum(K - S, 0.)\n",
        "\n",
        "# LSMC algorithm\n",
        "def compute_price():\n",
        "  key = jax.random.PRNGKey(1)\n",
        "  S0 = Spot * jnp.ones(n)\n",
        "\n",
        "  S = jax.lax.scan(step, (key, S0), xs=None, length=m)[1]\n",
        "  discount = jnp.exp(-r * Δt)\n",
        "\n",
        "  value_if_exercise = payoff_put(S[-1])\n",
        "  discounted_future_cashflows = value_if_exercise * discount\n",
        "\n",
        "  def new_func(init, x):\n",
        "    X = chebyshev_basis(scale(S[-2 - x]), order)[1].T\n",
        "    Θ = jnp.linalg.solve(X.T @ X, X.T @ init)\n",
        "    value_if_wait = X @ Θ\n",
        "    value_if_exercise = payoff_put(S[-2 - x])\n",
        "    exercise = value_if_exercise >= value_if_wait\n",
        "    Y = discount * jnp.where(exercise, value_if_exercise, init)\n",
        "    return Y, Y\n",
        "\n",
        "  return jax.lax.scan(new_func, discounted_future_cashflows, xs = jnp.array(range(m-1)))[0].mean()\n",
        "\n",
        "\n",
        "compute_price()\n",
        "#test = compute_price(order, Spot, σ, K, r)"
      ],
      "metadata": {
        "id": "wNwaWlQ3ol0Y",
        "colab": {
          "base_uri": "https://localhost:8080/"
        },
        "outputId": "b6df47de-223a-47b7-c09d-517e5c665344"
      },
      "execution_count": null,
      "outputs": [
        {
          "output_type": "execute_result",
          "data": {
            "text/plain": [
              "DeviceArray(4.466024, dtype=float32)"
            ]
          },
          "metadata": {},
          "execution_count": 8
        }
      ]
    }
  ]
}